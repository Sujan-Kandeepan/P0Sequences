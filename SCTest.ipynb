{
 "cells": [
  {
   "cell_type": "markdown",
   "metadata": {},
   "source": [
    "### P0 Scanner Tests\n",
    "\n",
    "#### Original Author: Emil Sekerinski, McMaster University, revised March 2021\n",
    "\n",
    "Tests scanner output and produces all scanner error messages."
   ]
  },
  {
   "cell_type": "code",
   "execution_count": null,
   "metadata": {},
   "outputs": [],
   "source": [
    "import nbimporter; nbimporter.options[\"only_defs\"] = False\n",
    "from P0 import compileString\n",
    "import SC"
   ]
  },
  {
   "cell_type": "markdown",
   "metadata": {},
   "source": [
    "Procedure `scanString` collects the symbols recognized by the scanner into a list. The list consists of pair with `SC.sym` and `SC.newline`; other variables of `SC` like `SC.val`, `SC.pos`, etc. are not included, but the code can easily be modified."
   ]
  },
  {
   "cell_type": "code",
   "execution_count": null,
   "metadata": {},
   "outputs": [],
   "source": [
    "from SC import TIMES, DIV, MOD, AND, PLUS, MINUS, OR, EQ, NE, LT, GT, \\\n",
    "    LE, GE, PERIOD, COMMA, COLON, NOT, LPAREN, RPAREN, LBRAK, RBRAK, \\\n",
    "    LARROW, RARROW, LBRACE, RBRACE, CARD, COMPLEMENT, UNION, INTERSECTION, \\\n",
    "    ELEMENT, SUBSET, SUPERSET, DOTDOT, THEN, DO, BECOMES, NUMBER, IDENT, \\\n",
    "    SEMICOLON, ELSE, IF, WHILE, CONST, TYPE, VAR, SET, PROCEDURE, PROGRAM, \\\n",
    "    INDENT, DEDENT, EOF\n",
    "\n",
    "symbol = {TIMES: 'TIMES', DIV: 'DIV', MOD: 'MOD', AND: 'AND', PLUS: 'PLUS',\n",
    "    MINUS: 'MINUS', OR: 'OR', EQ: 'EQ', NE: 'NE', LT: 'LT', GT: 'GT',\n",
    "    LE: 'LE', GE: 'GE', PERIOD: 'PERIOD', COMMA: 'COMMA', COLON: 'COLON',\n",
    "    NOT: 'NOT', LPAREN: 'LPAREN', RPAREN: 'RPAREN', LBRAK: 'LBRAK', RBRAK: 'RBRAK',\n",
    "    LARROW: 'LARROW', RARROW: 'RARROW', LBRACE: 'LBRACE', RBRACE: 'RBRACE',\n",
    "    CARD: 'CARD', COMPLEMENT: 'COMPLEMENT', UNION: 'UNION', INTERSECTION: 'INTERSECTION',\n",
    "    ELEMENT: 'ELEMENT', SUBSET: 'SUBSET', SUPERSET: 'SUPERSET', DOTDOT: 'DOTDOT',\n",
    "    THEN: 'THEN', DO: 'DO', BECOMES: 'BECOMES', NUMBER: 'NUMBER', IDENT: 'INDENT',\n",
    "    SEMICOLON: 'SEMICOLON', ELSE: 'ELSE', IF: 'IF', WHILE: 'WHILE', CONST: 'CONST',\n",
    "    TYPE: 'TYPE', VAR: 'VAR', SET: 'SET', PROCEDURE: 'PROCEDURE', PROGRAM: 'PROGRAM',\n",
    "    INDENT: 'INDENT', DEDENT: 'DEDENT'}\n",
    "\n",
    "def scanString(src): # for a more readable scanner output\n",
    "    SC.init(src); syms = []\n",
    "    while SC.sym != SC.EOF:\n",
    "        syms.append((symbol[SC.sym], SC.newline))\n",
    "        SC.getSym()\n",
    "    return syms"
   ]
  },
  {
   "cell_type": "code",
   "execution_count": null,
   "metadata": {},
   "outputs": [],
   "source": [
    "scanString(\"\"\"\n",
    "\n",
    "program p\n",
    "\n",
    "  if a then\n",
    "    writeln()\n",
    "  else\n",
    "    writeln()\n",
    "  if a then writeln() else writeln()\n",
    "\"\"\")"
   ]
  },
  {
   "cell_type": "code",
   "execution_count": null,
   "metadata": {},
   "outputs": [],
   "source": [
    "scanString(\"\"\"\n",
    "type T = [1..10] → integer\n",
    "var a: T\n",
    "procedure r()\n",
    "    a[3] := 9\n",
    "program p\n",
    "  a[3] := 9\n",
    "\"\"\")"
   ]
  },
  {
   "cell_type": "code",
   "execution_count": null,
   "metadata": {},
   "outputs": [],
   "source": [
    "scanString(\"\"\"\n",
    "program\n",
    "y := 5\n",
    "if a then\n",
    "  if b then\n",
    "    a := b\n",
    "x := 3\n",
    "\"\"\")"
   ]
  },
  {
   "cell_type": "code",
   "execution_count": null,
   "metadata": {},
   "outputs": [],
   "source": [
    "scanString(\"\"\"\n",
    "program p\n",
    "  while 2 > 3 do\n",
    "    write(1)\n",
    "\"\"\")"
   ]
  },
  {
   "cell_type": "code",
   "execution_count": null,
   "metadata": {},
   "outputs": [],
   "source": [
    "scanString(\"\"\"// comment 1\n",
    "program p     // comment 2\n",
    "  writeln()   // comment 3\n",
    "              // comment 4\n",
    "\"\"\")"
   ]
  },
  {
   "cell_type": "markdown",
   "metadata": {},
   "source": [
    "#### Error \"number too large\""
   ]
  },
  {
   "cell_type": "code",
   "execution_count": null,
   "metadata": {},
   "outputs": [],
   "source": [
    "compileString(\"\"\"\n",
    "const c = 12345678901234567890\n",
    "\"\"\")"
   ]
  },
  {
   "cell_type": "markdown",
   "metadata": {},
   "source": [
    "#### Error \"illegal character\""
   ]
  },
  {
   "cell_type": "code",
   "execution_count": null,
   "metadata": {},
   "outputs": [],
   "source": [
    "compileString(\"\"\"\n",
    "program p_\n",
    "  writeln()\n",
    "\"\"\")"
   ]
  }
 ],
 "metadata": {
  "kernelspec": {
   "display_name": "Python 3",
   "language": "python",
   "name": "python3"
  },
  "language_info": {
   "codemirror_mode": {
    "name": "ipython",
    "version": 3
   },
   "file_extension": ".py",
   "mimetype": "text/x-python",
   "name": "python",
   "nbconvert_exporter": "python",
   "pygments_lexer": "ipython3",
   "version": "3.8.3"
  },
  "toc": {
   "base_numbering": 1,
   "nav_menu": {},
   "number_sections": false,
   "sideBar": false,
   "skip_h1_title": true,
   "title_cell": "Table of Contents",
   "title_sidebar": "Contents",
   "toc_cell": false,
   "toc_position": {},
   "toc_section_display": true,
   "toc_window_display": false
  }
 },
 "nbformat": 4,
 "nbformat_minor": 2
}
