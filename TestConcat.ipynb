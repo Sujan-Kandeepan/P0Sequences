{
 "cells": [
  {
   "cell_type": "markdown",
   "metadata": {},
   "source": [
    "### Testing Playground for P0 Programs &ndash; Array Concatenation"
   ]
  },
  {
   "cell_type": "code",
   "execution_count": null,
   "metadata": {},
   "outputs": [],
   "source": [
    "import nbimporter; nbimporter.options[\"only_defs\"] = False\n",
    "from P0 import compileString\n",
    "from ST import printSymTab\n",
    "import time\n",
    "\n",
    "def runwasm(wasmfile):\n",
    "    from IPython.core.display import display, Javascript\n",
    "    display(Javascript(\"\"\"\n",
    "    const params = { \n",
    "        P0lib: { \n",
    "            write: i => this.append_stream({text: '' + i, name: 'stdout'}),\n",
    "            writeln: () => this.append_stream({text: '\\\\n', name: 'stdout'}),\n",
    "            read: () => window.prompt()\n",
    "        }\n",
    "    }\n",
    "\n",
    "    fetch('\"\"\" + wasmfile + \"\"\"') // asynchronously fetch file, return Response object\n",
    "      .then(response => response.arrayBuffer()) // read the response to completion and stores it in an ArrayBuffer\n",
    "      .then(code => WebAssembly.compile(code)) // compile (sharable) code.wasm\n",
    "      .then(module => WebAssembly.instantiate(module, params)) // create an instance with memory\n",
    "    // .then(instance => instance.exports.program()); // run the main program; not needed if start function specified\n",
    "    \"\"\"))"
   ]
  },
  {
   "cell_type": "markdown",
   "metadata": {},
   "source": [
    "Write, compile and execute P0 programs for testing using the following steps:\n",
    "1. Define a string constant containing a P0 program to be validated in the cell below.\n",
    "2. Update the `compileString` parameter to accept the string constant in the cell below.\n",
    "3. Select `Kernel > Restart & Run All` to view and execute the target WebAssembly program.\n",
    "   <br>Alternatively, selecting `Cell > Run All` is sufficient to rerun if there are no code changes."
   ]
  },
  {
   "cell_type": "code",
   "execution_count": null,
   "metadata": {},
   "outputs": [],
   "source": [
    "# Concatenating array with single element array literal\n",
    "test1 = \"\"\"\n",
    "program p\n",
    "    var a: [1..3] → integer\n",
    "    a := [3, 7, 11]\n",
    "    a := a + [1]\n",
    "    write(a[4])\n",
    "\"\"\"\n",
    "\n",
    "# Concatenating array with multiple element array literal\n",
    "test2 = \"\"\"\n",
    "program p\n",
    "    var a: [1..3] → integer\n",
    "    a := [3, 7, 11]\n",
    "    a := a + [1, 5, 9]\n",
    "    write(a[4])\n",
    "    write(a[5])\n",
    "    write(a[6])\n",
    "\"\"\"\n",
    "\n",
    "# Concatenating array literal with array literal\n",
    "test3 = \"\"\"\n",
    "program p\n",
    "    var a: [1..3] → integer\n",
    "    a := [3, 7, 11] + [1, 5, 9]\n",
    "    write(a[4])\n",
    "    write(a[5])\n",
    "    write(a[6])\n",
    "\"\"\"\n",
    "\n",
    "# Update this line to run a specific testcase\n",
    "compileString(test1, \"test.wat\")"
   ]
  },
  {
   "cell_type": "code",
   "execution_count": null,
   "metadata": {},
   "outputs": [],
   "source": [
    "!cat -n \"test.wat\""
   ]
  },
  {
   "cell_type": "code",
   "execution_count": null,
   "metadata": {},
   "outputs": [],
   "source": [
    "!wat2wasm --enable-bulk-memory test.wat || rm test.wasm"
   ]
  },
  {
   "cell_type": "code",
   "execution_count": null,
   "metadata": {},
   "outputs": [],
   "source": [
    "runwasm(\"test.wasm\")"
   ]
  },
  {
   "cell_type": "code",
   "execution_count": null,
   "metadata": {},
   "outputs": [],
   "source": [
    "time.sleep(1)"
   ]
  },
  {
   "cell_type": "markdown",
   "metadata": {},
   "source": [
    "The above tests can also be set to run all at once using the following steps:\n",
    "1. Define testcases using the following format: `(testcase, pass, result)`\n",
    "   <br>`testcase` is a string such as the above containing a P0 program to be tested.\n",
    "   <br>`pass` is a Boolean value set to `True` if the program should compile/run without raising an exception.\n",
    "   <br>`result` is the expected output or exception message when the given program is compiled/run.\n",
    "2. Set the value of `runall` to `True` below (set to `False` by default to prevent unnecessary runs).\n",
    "3. Rerun the notebook as above, or run the below cells by selecting `Cell > Run All Below` from the below cell.\n",
    "\n",
    "Note: the automated test runs should ideally be modified below to capture the output of the `runwasm` function and compare\n",
    "<br>against `test[2]` to check for the expected result if the program runs successfully, but this has not yet been implemented."
   ]
  },
  {
   "cell_type": "code",
   "execution_count": null,
   "metadata": {},
   "outputs": [],
   "source": [
    "tests = [\n",
    "    (test1, True, \"1\"),\n",
    "    (test2, True, \"1\\n5\\n9\"),\n",
    "    (test3, True, \"1\\n5\\n9\"),\n",
    "]"
   ]
  },
  {
   "cell_type": "code",
   "execution_count": null,
   "metadata": {},
   "outputs": [],
   "source": [
    "%%capture errors\n",
    "runall = False\n",
    "passing = 0\n",
    "if runall:\n",
    "    for index, test in enumerate(tests):\n",
    "        try:\n",
    "            compileString(test[0], \"test.wat\")\n",
    "            !wat2wasm --enable-bulk-memory test.wat || rm test.wasm\n",
    "            runwasm(\"test.wasm\")\n",
    "            # TODO: compare runwasm output to test[2]\n",
    "            if test[1]: passing += 1\n",
    "            else: print(f'Test #{index + 1} did not throw an exception')\n",
    "        except Exception as e:\n",
    "            if not test[1] and test[2] in str(e): passing += 1\n",
    "            elif not test[1]: print(f'Test #{index + 1} threw an unexpected exception: {e}')\n",
    "            else: print(f'Test #{index + 1} threw an unhandled exception: {e}')"
   ]
  },
  {
   "cell_type": "code",
   "execution_count": null,
   "metadata": {},
   "outputs": [],
   "source": [
    "if runall:\n",
    "    print(f'{passing} out of {len(tests)} tests pass')\n",
    "    print(errors)\n",
    "else:\n",
    "    print(\"Skipped automated testing\")"
   ]
  }
 ],
 "metadata": {
  "kernelspec": {
   "display_name": "Python 3",
   "language": "python",
   "name": "python3"
  },
  "language_info": {
   "codemirror_mode": {
    "name": "ipython",
    "version": 3
   },
   "file_extension": ".py",
   "mimetype": "text/x-python",
   "name": "python",
   "nbconvert_exporter": "python",
   "pygments_lexer": "ipython3",
   "version": "3.8.3"
  },
  "toc": {
   "base_numbering": 1,
   "nav_menu": {},
   "number_sections": false,
   "sideBar": false,
   "skip_h1_title": true,
   "title_cell": "Table of Contents",
   "title_sidebar": "Contents",
   "toc_cell": false,
   "toc_position": {},
   "toc_section_display": true,
   "toc_window_display": false
  }
 },
 "nbformat": 4,
 "nbformat_minor": 2
}
