{
 "cells": [
  {
   "cell_type": "markdown",
   "metadata": {},
   "source": [
    "### Testing Playground for P0 Programs"
   ]
  },
  {
   "cell_type": "code",
   "execution_count": 1,
   "metadata": {},
   "outputs": [
    {
     "name": "stdout",
     "output_type": "stream",
     "text": [
      "Importing Jupyter notebook from P0.ipynb\n",
      "Importing Jupyter notebook from SC.ipynb\n",
      "Importing Jupyter notebook from ST.ipynb\n"
     ]
    }
   ],
   "source": [
    "import nbimporter; nbimporter.options[\"only_defs\"] = False\n",
    "from P0 import compileString\n",
    "from ST import printSymTab\n",
    "\n",
    "def runwasm(wasmfile):\n",
    "    from IPython.core.display import display, Javascript\n",
    "    display(Javascript(\"\"\"\n",
    "    const params = { \n",
    "        P0lib: { \n",
    "            write: i => this.append_stream({text: '' + i, name: 'stdout'}),\n",
    "            writeln: () => this.append_stream({text: '\\\\n', name: 'stdout'}),\n",
    "            read: () => window.prompt()\n",
    "        }\n",
    "    }\n",
    "\n",
    "    fetch('\"\"\" + wasmfile + \"\"\"') // asynchronously fetch file, return Response object\n",
    "      .then(response => response.arrayBuffer()) // read the response to completion and stores it in an ArrayBuffer\n",
    "      .then(code => WebAssembly.compile(code)) // compile (sharable) code.wasm\n",
    "      .then(module => WebAssembly.instantiate(module, params)) // create an instance with memory\n",
    "    // .then(instance => instance.exports.program()); // run the main program; not needed if start function specified\n",
    "    \"\"\"))"
   ]
  },
  {
   "cell_type": "markdown",
   "metadata": {},
   "source": [
    "\n",
    "Write, compile and execute P0 programs for testing using the following steps:\n",
    "1. Define a string constant containing a P0 program to be validated in the cell below.\n",
    "2. Update the `compileString` parameter to accept the string constant in the cell below.\n",
    "3. Select `Kernel > Restart & Run All` to view and execute the target WebAssembly program."
   ]
  },
  {
   "cell_type": "code",
   "execution_count": 29,
   "metadata": {
    "scrolled": true
   },
   "outputs": [
    {
     "data": {
      "application/javascript": [
       "\n",
       "    const params = { \n",
       "        P0lib: { \n",
       "            write: i => this.append_stream({text: '' + i, name: 'stdout'}),\n",
       "            writeln: () => this.append_stream({text: '\\n', name: 'stdout'}),\n",
       "            read: () => window.prompt()\n",
       "        }\n",
       "    }\n",
       "\n",
       "    fetch('test1.wasm') // asynchronously fetch file, return Response object\n",
       "      .then(response => response.arrayBuffer()) // read the response to completion and stores it in an ArrayBuffer\n",
       "      .then(code => WebAssembly.compile(code)) // compile (sharable) code.wasm\n",
       "      .then(module => WebAssembly.instantiate(module, params)) // create an instance with memory\n",
       "    // .then(instance => instance.exports.program()); // run the main program; not needed if start function specified\n",
       "    "
      ],
      "text/plain": [
       "<IPython.core.display.Javascript object>"
      ]
     },
     "metadata": {},
     "output_type": "display_data"
    }
   ],
   "source": [
    "# Concatenation array with single element array literal\n",
    "test1 = \"\"\"\n",
    "program p\n",
    "    var a: [1..3] → integer\n",
    "    var b: [1..3] → integer\n",
    "    a := [3, 7, 11]\n",
    "    b := [4, 8, 12]\n",
    "    a := a + [1]\n",
    "    write(a[4])\n",
    "\"\"\"\n",
    "compileString(test1, \"test1.wat\")\n",
    "!wat2wasm --enable-bulk-memory test1.wat || rm test1.wasm\n",
    "runwasm(\"test1.wasm\")"
   ]
  },
  {
   "cell_type": "code",
   "execution_count": 31,
   "metadata": {
    "scrolled": true
   },
   "outputs": [
    {
     "data": {
      "application/javascript": [
       "\n",
       "    const params = { \n",
       "        P0lib: { \n",
       "            write: i => this.append_stream({text: '' + i, name: 'stdout'}),\n",
       "            writeln: () => this.append_stream({text: '\\n', name: 'stdout'}),\n",
       "            read: () => window.prompt()\n",
       "        }\n",
       "    }\n",
       "\n",
       "    fetch('test2.wasm') // asynchronously fetch file, return Response object\n",
       "      .then(response => response.arrayBuffer()) // read the response to completion and stores it in an ArrayBuffer\n",
       "      .then(code => WebAssembly.compile(code)) // compile (sharable) code.wasm\n",
       "      .then(module => WebAssembly.instantiate(module, params)) // create an instance with memory\n",
       "    // .then(instance => instance.exports.program()); // run the main program; not needed if start function specified\n",
       "    "
      ],
      "text/plain": [
       "<IPython.core.display.Javascript object>"
      ]
     },
     "metadata": {},
     "output_type": "display_data"
    }
   ],
   "source": [
    "# Concatenating array with multiple element array literal\n",
    "test2 = \"\"\"\n",
    "program p\n",
    "    var a: [1..3] → integer\n",
    "    var b: [1..3] → integer\n",
    "    a := [3, 7, 11]\n",
    "    b := [4, 8, 12]\n",
    "    a := a + [1, 5, 9]\n",
    "    write(a[4])\n",
    "    write(a[5])\n",
    "    write(a[6])\n",
    "\"\"\"\n",
    "compileString(test2, \"test2.wat\")\n",
    "!wat2wasm --enable-bulk-memory test2.wat || rm test2.wasm\n",
    "runwasm(\"test2.wasm\")"
   ]
  },
  {
   "cell_type": "code",
   "execution_count": 34,
   "metadata": {},
   "outputs": [
    {
     "name": "stdout",
     "output_type": "stream",
     "text": [
      "     1\t(module\r\n",
      "     2\t(import \"P0lib\" \"write\" (func $write (param i32)))\r\n",
      "     3\t(import \"P0lib\" \"writeln\" (func $writeln))\r\n",
      "     4\t(import \"P0lib\" \"read\" (func $read (result i32)))\r\n",
      "     5\t(global $_memsize (mut i32) i32.const 0)\r\n",
      "     6\t(func $program\r\n",
      "     7\t(local $a i32)\r\n",
      "     8\t(local $b i32)\r\n",
      "     9\t(local $0 i32)\r\n",
      "    10\t(local $_fp i32)\r\n",
      "    11\tglobal.get $_memsize\r\n",
      "    12\tlocal.set $_fp\r\n",
      "    13\tglobal.get $_memsize\r\n",
      "    14\ti32.const 12\r\n",
      "    15\ti32.add\r\n",
      "    16\tlocal.tee $a\r\n",
      "    17\tglobal.set $_memsize\r\n",
      "    18\tglobal.get $_memsize\r\n",
      "    19\ti32.const 12\r\n",
      "    20\ti32.add\r\n",
      "    21\tlocal.tee $b\r\n",
      "    22\tglobal.set $_memsize\r\n",
      "    23\ti32.const 1\r\n",
      "    24\ti32.const 1\r\n",
      "    25\ti32.sub\r\n",
      "    26\ti32.const 4\r\n",
      "    27\ti32.mul\r\n",
      "    28\tlocal.get $a\r\n",
      "    29\ti32.add\r\n",
      "    30\ti32.const 3\r\n",
      "    31\ti32.store\r\n",
      "    32\ti32.const 2\r\n",
      "    33\ti32.const 1\r\n",
      "    34\ti32.sub\r\n",
      "    35\ti32.const 4\r\n",
      "    36\ti32.mul\r\n",
      "    37\tlocal.get $a\r\n",
      "    38\ti32.add\r\n",
      "    39\ti32.const 7\r\n",
      "    40\ti32.store\r\n",
      "    41\ti32.const 3\r\n",
      "    42\ti32.const 1\r\n",
      "    43\ti32.sub\r\n",
      "    44\ti32.const 4\r\n",
      "    45\ti32.mul\r\n",
      "    46\tlocal.get $a\r\n",
      "    47\ti32.add\r\n",
      "    48\ti32.const 11\r\n",
      "    49\ti32.store\r\n",
      "    50\ti32.const 1\r\n",
      "    51\ti32.const 1\r\n",
      "    52\ti32.sub\r\n",
      "    53\ti32.const 4\r\n",
      "    54\ti32.mul\r\n",
      "    55\tlocal.get $b\r\n",
      "    56\ti32.add\r\n",
      "    57\ti32.const 4\r\n",
      "    58\ti32.store\r\n",
      "    59\ti32.const 2\r\n",
      "    60\ti32.const 1\r\n",
      "    61\ti32.sub\r\n",
      "    62\ti32.const 4\r\n",
      "    63\ti32.mul\r\n",
      "    64\tlocal.get $b\r\n",
      "    65\ti32.add\r\n",
      "    66\ti32.const 8\r\n",
      "    67\ti32.store\r\n",
      "    68\ti32.const 3\r\n",
      "    69\ti32.const 1\r\n",
      "    70\ti32.sub\r\n",
      "    71\ti32.const 4\r\n",
      "    72\ti32.mul\r\n",
      "    73\tlocal.get $b\r\n",
      "    74\ti32.add\r\n",
      "    75\ti32.const 12\r\n",
      "    76\ti32.store\r\n",
      "    77\tlocal.get $a\r\n",
      "    78\tglobal.get $_memsize\r\n",
      "    79\ti32.const 12\r\n",
      "    80\tmemory.copy\r\n",
      "    81\tglobal.get $_memsize\r\n",
      "    82\tlocal.tee $a\r\n",
      "    83\tglobal.set $_memsize\r\n",
      "    84\ti32.const 4\r\n",
      "    85\ti32.const 1\r\n",
      "    86\ti32.sub\r\n",
      "    87\ti32.const 4\r\n",
      "    88\ti32.mul\r\n",
      "    89\tlocal.get $a\r\n",
      "    90\ti32.add\r\n",
      "    91\ti32.const 1\r\n",
      "    92\ti32.store\r\n",
      "    93\ti32.const 4\r\n",
      "    94\ti32.const 1\r\n",
      "    95\ti32.sub\r\n",
      "    96\ti32.const 4\r\n",
      "    97\ti32.mul\r\n",
      "    98\tlocal.get $a\r\n",
      "    99\ti32.add\r\n",
      "   100\ti32.load\r\n",
      "   101\tcall $write\r\n",
      "   102\tlocal.get $_fp\r\n",
      "   103\tglobal.set $_memsize\r\n",
      "   104\t)\r\n",
      "   105\t(memory 1)\r\n",
      "   106\t(start $program)\r\n",
      "   107\t)"
     ]
    }
   ],
   "source": [
    "#Update this line to see WebAssembly of a specific test case\n",
    "!cat -n \"test1.wat\""
   ]
  },
  {
   "cell_type": "code",
   "execution_count": null,
   "metadata": {},
   "outputs": [],
   "source": []
  }
 ],
 "metadata": {
  "kernelspec": {
   "display_name": "Python 3",
   "language": "python",
   "name": "python3"
  },
  "language_info": {
   "codemirror_mode": {
    "name": "ipython",
    "version": 3
   },
   "file_extension": ".py",
   "mimetype": "text/x-python",
   "name": "python",
   "nbconvert_exporter": "python",
   "pygments_lexer": "ipython3",
   "version": "3.8.3"
  },
  "toc": {
   "base_numbering": 1,
   "nav_menu": {},
   "number_sections": false,
   "sideBar": false,
   "skip_h1_title": true,
   "title_cell": "Table of Contents",
   "title_sidebar": "Contents",
   "toc_cell": false,
   "toc_position": {},
   "toc_section_display": true,
   "toc_window_display": false
  }
 },
 "nbformat": 4,
 "nbformat_minor": 2
}
