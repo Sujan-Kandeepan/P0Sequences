{
 "cells": [
  {
   "cell_type": "markdown",
   "metadata": {},
   "source": [
    "### Testing Playground for P0 Programs"
   ]
  },
  {
   "cell_type": "code",
   "execution_count": null,
   "metadata": {},
   "outputs": [],
   "source": [
    "import nbimporter; nbimporter.options[\"only_defs\"] = False\n",
    "from P0 import compileString\n",
    "from ST import printSymTab\n",
    "\n",
    "def runwasm(wasmfile):\n",
    "    from IPython.core.display import display, Javascript\n",
    "    display(Javascript(\"\"\"\n",
    "    const params = { \n",
    "        P0lib: { \n",
    "            write: i => this.append_stream({text: '' + i, name: 'stdout'}),\n",
    "            writeln: () => this.append_stream({text: '\\\\n', name: 'stdout'}),\n",
    "            read: () => window.prompt()\n",
    "        }\n",
    "    }\n",
    "\n",
    "    fetch('\"\"\" + wasmfile + \"\"\"') // asynchronously fetch file, return Response object\n",
    "      .then(response => response.arrayBuffer()) // read the response to completion and stores it in an ArrayBuffer\n",
    "      .then(code => WebAssembly.compile(code)) // compile (sharable) code.wasm\n",
    "      .then(module => WebAssembly.instantiate(module, params)) // create an instance with memory\n",
    "    // .then(instance => instance.exports.program()); // run the main program; not needed if start function specified\n",
    "    \"\"\"))"
   ]
  },
  {
   "cell_type": "markdown",
   "metadata": {},
   "source": [
    "\n",
    "Write, compile and execute P0 programs for testing using the following steps:\n",
    "1. Define a string constant containing a P0 program to be validated in the cell below.\n",
    "2. Update the `compileString` parameter to accept the string constant in the cell below.\n",
    "3. Select `Kernel > Restart & Run All` to view and execute the target WebAssembly program."
   ]
  },
  {
   "cell_type": "code",
   "execution_count": null,
   "metadata": {
    "scrolled": true
   },
   "outputs": [],
   "source": [
    "# Concatenating array variable with single element array literal\n",
    "test1 = \"\"\"\n",
    "program p\n",
    "    var a: [1..3] → integer\n",
    "    a[1] := 3\n",
    "    a[2] := 7\n",
    "    a[3] := 11\n",
    "    a := a + [4]\n",
    "    a := a + [8]\n",
    "    a := a + [12]\n",
    "    write(a[1])\n",
    "    write(a[2])\n",
    "    write(a[3])\n",
    "    write(a[4])\n",
    "    write(a[5])\n",
    "    write(a[6])\n",
    "\"\"\"\n",
    "compileString(test1, \"test1.wat\")\n",
    "!wat2wasm --enable-bulk-memory test1.wat || rm test1.wasm\n",
    "runwasm(\"test1.wasm\")"
   ]
  },
  {
   "cell_type": "code",
   "execution_count": null,
   "metadata": {
    "scrolled": true
   },
   "outputs": [],
   "source": [
    "# Concatenating array variable with multiple element array literal\n",
    "test2 = \"\"\"\n",
    "program p\n",
    "    var a: [1..3] → integer\n",
    "    var b: [1..3] → integer\n",
    "    a[1] := 3\n",
    "    a[2] := 7\n",
    "    a[3] := 11\n",
    "    a := a + [6, 2, 1]\n",
    "    a := a + [45, 56, 99]\n",
    "    write(a[1])\n",
    "    write(a[2])\n",
    "    write(a[3])\n",
    "    write(a[4])\n",
    "    write(a[5])\n",
    "    write(a[6])\n",
    "    write(a[7])\n",
    "    write(a[8])\n",
    "    write(a[9])\n",
    "\"\"\"\n",
    "compileString(test2, \"test2.wat\")\n",
    "!wat2wasm --enable-bulk-memory test2.wat || rm test2.wasm\n",
    "runwasm(\"test2.wasm\")"
   ]
  },
  {
   "cell_type": "code",
   "execution_count": null,
   "metadata": {
    "scrolled": true
   },
   "outputs": [],
   "source": [
    "# Concatenating array literal with array literal\n",
    "test3 = \"\"\"\n",
    "program p\n",
    "    var a: [1..3] → integer\n",
    "    var b: [1..3] → integer\n",
    "    a := [3, 7, 11] + [4, 8, 12]\n",
    "    b := [2] + [3]\n",
    "    write(a[1])\n",
    "    write(a[2])\n",
    "    write(a[3])\n",
    "    write(a[4])\n",
    "    write(a[5])\n",
    "    write(a[6])\n",
    "    write(b[1])\n",
    "    write(b[2])\n",
    "\"\"\"\n",
    "compileString(test3, \"test3.wat\")\n",
    "!wat2wasm --enable-bulk-memory test3.wat || rm test3.wasm\n",
    "runwasm(\"test3.wasm\")"
   ]
  },
  {
   "cell_type": "code",
   "execution_count": null,
   "metadata": {
    "scrolled": true
   },
   "outputs": [],
   "source": [
    "# Concatenating array literal with array variable\n",
    "test4 = \"\"\"\n",
    "program p\n",
    "    var a: [1..3] → integer\n",
    "    var b: [1..3] → integer\n",
    "    a[1] := 3\n",
    "    a[2] := 7\n",
    "    a[3] := 11\n",
    "    a := [4, 8, 12, 9] + a\n",
    "    write(a[1])\n",
    "    write(a[2])\n",
    "    write(a[3])\n",
    "    write(a[4])\n",
    "    write(a[5])\n",
    "    write(a[6])\n",
    "    write(a[7])\n",
    "\"\"\"\n",
    "compileString(test4, \"test4.wat\")\n",
    "!wat2wasm --enable-bulk-memory test4.wat || rm test4.wasm\n",
    "runwasm(\"test4.wasm\")"
   ]
  },
  {
   "cell_type": "code",
   "execution_count": null,
   "metadata": {
    "scrolled": true
   },
   "outputs": [],
   "source": [
    "# Concatenating array variable with array variable\n",
    "test5 = \"\"\"\n",
    "program p\n",
    "    var a: [1..3] → integer\n",
    "    var b: [1..3] → integer\n",
    "    var c: [1..3] → integer\n",
    "    a[1] := 3\n",
    "    a[2] := 7\n",
    "    a[3] := 11\n",
    "    b[1] := 4\n",
    "    b[2] := 8\n",
    "    b[3] := 12\n",
    "    a := a + b\n",
    "    write(a[1])\n",
    "    write(a[2])\n",
    "    write(a[3])\n",
    "    write(a[4])\n",
    "    write(a[5])\n",
    "    write(a[6])\n",
    "\"\"\"\n",
    "compileString(test5, \"test5.wat\")\n",
    "!wat2wasm --enable-bulk-memory test5.wat || rm test5.wasm\n",
    "runwasm(\"test5.wasm\")"
   ]
  },
  {
   "cell_type": "code",
   "execution_count": null,
   "metadata": {},
   "outputs": [],
   "source": [
    "#Update this line to see WebAssembly of a specific test case\n",
    "!cat -n \"test1.wat\""
   ]
  }
 ],
 "metadata": {
  "kernelspec": {
   "display_name": "Python 3",
   "language": "python",
   "name": "python3"
  },
  "language_info": {
   "codemirror_mode": {
    "name": "ipython",
    "version": 3
   },
   "file_extension": ".py",
   "mimetype": "text/x-python",
   "name": "python",
   "nbconvert_exporter": "python",
   "pygments_lexer": "ipython3",
   "version": "3.8.3"
  }
 },
 "nbformat": 4,
 "nbformat_minor": 2
}
