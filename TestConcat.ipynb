{
 "cells": [
  {
   "cell_type": "markdown",
   "metadata": {},
   "source": [
    "### Testing Playground for P0 Programs &ndash; Array Concatenation"
   ]
  },
  {
   "cell_type": "code",
   "execution_count": null,
   "metadata": {},
   "outputs": [],
   "source": [
    "import nbimporter; nbimporter.options[\"only_defs\"] = False\n",
    "from P0 import compileString\n",
    "from ST import printSymTab\n",
    "\n",
    "def runwasm(wasmfile):\n",
    "    from IPython.core.display import display, Javascript\n",
    "    display(Javascript(\"\"\"\n",
    "    const params = { \n",
    "        P0lib: { \n",
    "            write: i => this.append_stream({text: '' + i, name: 'stdout'}),\n",
    "            writeln: () => this.append_stream({text: '\\\\n', name: 'stdout'}),\n",
    "            read: () => window.prompt()\n",
    "        }\n",
    "    }\n",
    "\n",
    "    fetch('\"\"\" + wasmfile + \"\"\"') // asynchronously fetch file, return Response object\n",
    "      .then(response => response.arrayBuffer()) // read the response to completion and stores it in an ArrayBuffer\n",
    "      .then(code => WebAssembly.compile(code)) // compile (sharable) code.wasm\n",
    "      .then(module => WebAssembly.instantiate(module, params)) // create an instance with memory\n",
    "    // .then(instance => instance.exports.program()); // run the main program; not needed if start function specified\n",
    "    \"\"\"))"
   ]
  },
  {
   "cell_type": "markdown",
   "metadata": {},
   "source": [
    "\n",
    "Write, compile and execute P0 programs for testing using the following steps:\n",
    "1. Define a string constant containing a P0 program to be validated in the cell below.\n",
    "2. Update the `compileString` parameter to accept the string constant in the cell below.\n",
    "3. Select `Kernel > Restart & Run All` to view and execute the target WebAssembly program."
   ]
  },
  {
   "cell_type": "code",
   "execution_count": null,
   "metadata": {
    "scrolled": true
   },
   "outputs": [],
   "source": [
    "# Concatenating array with single element array literal\n",
    "test1 = \"\"\"\n",
    "program p\n",
    "    var a: [1..3] → integer\n",
    "    var b: [1..3] → integer\n",
    "    a := [3, 7, 11]\n",
    "    b := [4, 8, 12]\n",
    "    a := a + [1]\n",
    "    write(a[4])\n",
    "\"\"\"\n",
    "compileString(test1, \"test1.wat\")\n",
    "!wat2wasm --enable-bulk-memory test1.wat || rm test1.wasm\n",
    "runwasm(\"test1.wasm\")"
   ]
  },
  {
   "cell_type": "code",
   "execution_count": null,
   "metadata": {
    "scrolled": true
   },
   "outputs": [],
   "source": [
    "# Concatenating array with multiple element array literal\n",
    "test2 = \"\"\"\n",
    "program p\n",
    "    var a: [1..3] → integer\n",
    "    var b: [1..3] → integer\n",
    "    a := [3, 7, 11]\n",
    "    b := [4, 8, 12]\n",
    "    a := a + [1, 5, 9]\n",
    "    write(a[4])\n",
    "    write(a[5])\n",
    "    write(a[6])\n",
    "\"\"\"\n",
    "compileString(test2, \"test2.wat\")\n",
    "!wat2wasm --enable-bulk-memory test2.wat || rm test2.wasm\n",
    "runwasm(\"test2.wasm\")"
   ]
  },
  {
   "cell_type": "code",
   "execution_count": null,
   "metadata": {
    "scrolled": true
   },
   "outputs": [],
   "source": [
    "# Concatenating array literal with array literal\n",
    "test3 = \"\"\"\n",
    "program p\n",
    "    var a: [1..3] → integer\n",
    "    a := [3, 7, 11] + [4, 8, 12]\n",
    "    write(a[4])\n",
    "\"\"\"\n",
    "compileString(test3, \"test3.wat\")\n",
    "!wat2wasm --enable-bulk-memory test3.wat || rm test3.wasm\n",
    "runwasm(\"test3.wasm\")"
   ]
  },
  {
   "cell_type": "code",
   "execution_count": null,
   "metadata": {},
   "outputs": [],
   "source": [
    "#Update this line to see WebAssembly of a specific test case\n",
    "!cat -n \"test3.wat\""
   ]
  },
  {
   "cell_type": "code",
   "execution_count": null,
   "metadata": {},
   "outputs": [],
   "source": []
  }
 ],
 "metadata": {},
 "nbformat": 4,
 "nbformat_minor": 2
}
