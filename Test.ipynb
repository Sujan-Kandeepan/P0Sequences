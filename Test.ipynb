{
 "cells": [
  {
   "cell_type": "markdown",
   "metadata": {},
   "source": [
    "### Testing Playground for P0 Programs"
   ]
  },
  {
   "cell_type": "code",
   "execution_count": null,
   "metadata": {},
   "outputs": [],
   "source": [
    "import nbimporter; nbimporter.options[\"only_defs\"] = False\n",
    "from P0 import compileString\n",
    "from ST import printSymTab\n",
    "\n",
    "def runpywasm(wasmfile):\n",
    "    import pywasm\n",
    "    def write(s, i): print(i)\n",
    "    def writeln(s): print('\\n')\n",
    "    def read(s): return int(input())\n",
    "    vm = pywasm.load(wasmfile, {'P0lib': {'write': write, 'writeln': writeln, 'read': read}})"
   ]
  },
  {
   "cell_type": "markdown",
   "metadata": {},
   "source": [
    "Write, compile and execute P0 programs for testing using the following steps:\n",
    "1. Define a string constant containing a P0 program to be validated in the cell below.\n",
    "2. Update the `compileString` parameter to accept the string constant in the cell below.\n",
    "3. Select `Kernel > Restart & Run All` to view and execute the target WebAssembly program."
   ]
  },
  {
   "cell_type": "code",
   "execution_count": null,
   "metadata": {},
   "outputs": [],
   "source": [
    "# Simple array literal assignment\n",
    "test1 = \"\"\"\n",
    "program p\n",
    "    var a: [1..3] → integer\n",
    "    a := [3, 7, 11]\n",
    "    write(a[1])\n",
    "    write(a[2])\n",
    "    write(a[3])\n",
    "\"\"\"\n",
    "\n",
    "# Simple array interval assignment\n",
    "test2 = \"\"\"\n",
    "program p\n",
    "    var a: [1..3] → integer\n",
    "    a := [6..8]\n",
    "    write(a[1])\n",
    "    write(a[2])\n",
    "    write(a[3])\n",
    "\"\"\"\n",
    "\n",
    "# Multiple assignment with array literal at start\n",
    "test3 = \"\"\"\n",
    "program p\n",
    "    var a: [1..3] → integer\n",
    "    var b: integer\n",
    "    var c: boolean\n",
    "    a, b, c := [3, 7, 11], 42, true\n",
    "    write(a[1])\n",
    "    write(a[2])\n",
    "    write(a[3])\n",
    "    write(b)\n",
    "    if c then write(100)\n",
    "\"\"\"\n",
    "\n",
    "# Multiple assignment with array literal in middle\n",
    "test4 = \"\"\"\n",
    "program p\n",
    "    var a: [1..3] → integer\n",
    "    var b: integer\n",
    "    var c: boolean\n",
    "    b, a, c := 42, [3, 7, 11], true\n",
    "    write(a[1])\n",
    "    write(a[2])\n",
    "    write(a[3])\n",
    "    write(b)\n",
    "    if c then write(100)\n",
    "\"\"\"\n",
    "\n",
    "# Array literal with mixed types\n",
    "test5 = \"\"\"\n",
    "program p\n",
    "    var a: [1..3] → integer\n",
    "    a := [3, true, 11]\n",
    "\"\"\"\n",
    "\n",
    "# Array literal with wrong type\n",
    "test6 = \"\"\"\n",
    "program p\n",
    "    var a: [1..3] → integer\n",
    "    a := [false, true, false]\n",
    "\"\"\"\n",
    "\n",
    "# Array with non-integer range\n",
    "test7 = \"\"\"\n",
    "program p\n",
    "    var a: [1..3] → integer\n",
    "    a := [true..8]\n",
    "\"\"\"\n",
    "\n",
    "# Array with non-increasing range\n",
    "test8 = \"\"\"\n",
    "program p\n",
    "    var a: [1..3] → integer\n",
    "    a := [6..5]\n",
    "\"\"\"\n",
    "\n",
    "# Array literal of boolean values\n",
    "test9 = \"\"\"\n",
    "program p\n",
    "    var a: [1..3] → boolean\n",
    "    a := [false, true, false]\n",
    "    if a[1] = true then write(100)\n",
    "    if a[2] = true then write(200)\n",
    "    if a[3] = true then write(300)\n",
    "\"\"\"\n",
    "\n",
    "# Single array index assignment (regression test)\n",
    "test10 = \"\"\"\n",
    "program p\n",
    "    var a: [1..3] → integer\n",
    "    a[2] := 42\n",
    "    write(a[2])\n",
    "\"\"\"\n",
    "\n",
    "# Update this line to run a specific testcase\n",
    "compileString(test1, \"test.wat\")"
   ]
  },
  {
   "cell_type": "code",
   "execution_count": null,
   "metadata": {},
   "outputs": [],
   "source": [
    "!cat -n \"test.wat\""
   ]
  },
  {
   "cell_type": "code",
   "execution_count": null,
   "metadata": {},
   "outputs": [],
   "source": [
    "!wat2wasm test.wat || rm test.wasm"
   ]
  },
  {
   "cell_type": "code",
   "execution_count": null,
   "metadata": {},
   "outputs": [],
   "source": [
    "runpywasm(\"test.wasm\")"
   ]
  }
 ],
 "metadata": {
  "kernelspec": {
   "display_name": "Python 3",
   "language": "python",
   "name": "python3"
  },
  "language_info": {
   "codemirror_mode": {
    "name": "ipython",
    "version": 3
   },
   "file_extension": ".py",
   "mimetype": "text/x-python",
   "name": "python",
   "nbconvert_exporter": "python",
   "pygments_lexer": "ipython3",
   "version": "3.8.3"
  },
  "toc": {
   "base_numbering": 1,
   "nav_menu": {},
   "number_sections": false,
   "sideBar": false,
   "skip_h1_title": true,
   "title_cell": "Table of Contents",
   "title_sidebar": "Contents",
   "toc_cell": false,
   "toc_position": {},
   "toc_section_display": true,
   "toc_window_display": false
  }
 },
 "nbformat": 4,
 "nbformat_minor": 2
}
